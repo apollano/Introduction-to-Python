{
 "cells": [
  {
   "cell_type": "markdown",
   "metadata": {},
   "source": [
    "# Strings, Branching, Iteration\n",
    "\n",
    "## 1. Bindings\n",
    "You can assign a value to a variable by binding it using an equal sign. Similarly, you can change that value later on in the block using the same method. For example, if x is assigned to a value of 2, and then x is assigned to x*x, the new value of x will be 4. "
   ]
  },
  {
   "cell_type": "code",
   "execution_count": 9,
   "metadata": {
    "collapsed": true
   },
   "outputs": [],
   "source": [
    "x=2"
   ]
  },
  {
   "cell_type": "code",
   "execution_count": 10,
   "metadata": {},
   "outputs": [
    {
     "data": {
      "text/plain": [
       "3"
      ]
     },
     "execution_count": 10,
     "metadata": {},
     "output_type": "execute_result"
    }
   ],
   "source": [
    "x+1"
   ]
  },
  {
   "cell_type": "code",
   "execution_count": 11,
   "metadata": {
    "collapsed": true
   },
   "outputs": [],
   "source": [
    "x=x*x"
   ]
  },
  {
   "cell_type": "code",
   "execution_count": 12,
   "metadata": {},
   "outputs": [
    {
     "data": {
      "text/plain": [
       "5"
      ]
     },
     "execution_count": 12,
     "metadata": {},
     "output_type": "execute_result"
    }
   ],
   "source": [
    "x+1"
   ]
  },
  {
   "cell_type": "markdown",
   "metadata": {},
   "source": [
    "#### 1.1 Swap variables: "
   ]
  },
  {
   "cell_type": "code",
   "execution_count": 13,
   "metadata": {
    "collapsed": true
   },
   "outputs": [],
   "source": [
    "x=1"
   ]
  },
  {
   "cell_type": "code",
   "execution_count": 14,
   "metadata": {
    "collapsed": true
   },
   "outputs": [],
   "source": [
    "y=2"
   ]
  },
  {
   "cell_type": "code",
   "execution_count": 15,
   "metadata": {
    "collapsed": true
   },
   "outputs": [],
   "source": [
    "temp = y"
   ]
  },
  {
   "cell_type": "code",
   "execution_count": 16,
   "metadata": {
    "collapsed": true
   },
   "outputs": [],
   "source": [
    "y=x"
   ]
  },
  {
   "cell_type": "code",
   "execution_count": 17,
   "metadata": {
    "collapsed": true
   },
   "outputs": [],
   "source": [
    "x = temp"
   ]
  },
  {
   "cell_type": "code",
   "execution_count": 18,
   "metadata": {},
   "outputs": [
    {
     "data": {
      "text/plain": [
       "2"
      ]
     },
     "execution_count": 18,
     "metadata": {},
     "output_type": "execute_result"
    }
   ],
   "source": [
    "x"
   ]
  },
  {
   "cell_type": "code",
   "execution_count": 19,
   "metadata": {},
   "outputs": [
    {
     "data": {
      "text/plain": [
       "1"
      ]
     },
     "execution_count": 19,
     "metadata": {},
     "output_type": "execute_result"
    }
   ],
   "source": [
    "y"
   ]
  },
  {
   "cell_type": "markdown",
   "metadata": {},
   "source": [
    "## 2. Strings\n",
    "A string is a sequence of characters, like letters, spaces, special characters, digits. To create a string, you either use single quotes or double quotes.   "
   ]
  },
  {
   "cell_type": "code",
   "execution_count": 20,
   "metadata": {
    "collapsed": true
   },
   "outputs": [],
   "source": [
    "hi=\"hello there\""
   ]
  },
  {
   "cell_type": "code",
   "execution_count": 21,
   "metadata": {},
   "outputs": [
    {
     "data": {
      "text/plain": [
       "'hello there'"
      ]
     },
     "execution_count": 21,
     "metadata": {},
     "output_type": "execute_result"
    }
   ],
   "source": [
    "hi"
   ]
  },
  {
   "cell_type": "code",
   "execution_count": 22,
   "metadata": {
    "collapsed": true
   },
   "outputs": [],
   "source": [
    "greetings='hello'"
   ]
  },
  {
   "cell_type": "code",
   "execution_count": 23,
   "metadata": {},
   "outputs": [
    {
     "data": {
      "text/plain": [
       "'hello'"
      ]
     },
     "execution_count": 23,
     "metadata": {},
     "output_type": "execute_result"
    }
   ],
   "source": [
    "greetings"
   ]
  },
  {
   "cell_type": "markdown",
   "metadata": {},
   "source": [
    "You can also combine strings previously defined. For example: "
   ]
  },
  {
   "cell_type": "code",
   "execution_count": 24,
   "metadata": {
    "collapsed": true
   },
   "outputs": [],
   "source": [
    "name=\"eric\""
   ]
  },
  {
   "cell_type": "code",
   "execution_count": 25,
   "metadata": {
    "collapsed": true
   },
   "outputs": [],
   "source": [
    "greet=hi+name"
   ]
  },
  {
   "cell_type": "code",
   "execution_count": 26,
   "metadata": {},
   "outputs": [
    {
     "data": {
      "text/plain": [
       "'hello thereeric'"
      ]
     },
     "execution_count": 26,
     "metadata": {},
     "output_type": "execute_result"
    }
   ],
   "source": [
    "greet"
   ]
  },
  {
   "cell_type": "markdown",
   "metadata": {},
   "source": [
    "However, if you want to separate them by a space, you'll need to add \" \". "
   ]
  },
  {
   "cell_type": "code",
   "execution_count": 29,
   "metadata": {
    "collapsed": true
   },
   "outputs": [],
   "source": [
    "greeting=hi+\" \"+name"
   ]
  },
  {
   "cell_type": "code",
   "execution_count": 30,
   "metadata": {},
   "outputs": [
    {
     "data": {
      "text/plain": [
       "'hello there eric'"
      ]
     },
     "execution_count": 30,
     "metadata": {},
     "output_type": "execute_result"
    }
   ],
   "source": [
    "greeting"
   ]
  },
  {
   "cell_type": "markdown",
   "metadata": {},
   "source": [
    "#### 2.1 Operations on Strings"
   ]
  },
  {
   "cell_type": "markdown",
   "metadata": {},
   "source": [
    "- **Concentration**\n",
    " - 'string1' + 'string2'\n",
    " \n",
    "- **Successive Concatenation**\n",
    "You get 3 times 'string1' together\n",
    " - 3*'string1'\n",
    "\n",
    " \n",
    "- **Length**\n",
    "Tells you how many characters are there in that string,   including spaces\n",
    " - len('string1')\n",
    "\n",
    " \n",
    "- **Indexing**\n",
    "Gives you the first element of the string. In Python, indexes begin with 0, so putting 1 into the brackets will give you the second element.\n",
    " - 'string1'[1]\n",
    " \n",
    "- **Slicing**\n",
    "Gives you a chunk of the string. s[i:j] gives you a portion of string s from index i to index j-1.\n",
    " - 'string1'[1:3]  #This will give you elements 1 and 2\n",
    " - 'string1'[:3]   #gives you everything until element 2\n",
    " - 'string1'[1:]   #Gives you everything starting from element 1\n",
    " - 'string1'[::-1]  #Gives you the reverse order \n",
    " - 'string1'[-1]   #Gives you the last character\n",
    " - 'string1'[:]    #Gives you a copy of the whole thing. \n",
    "You can also add a third parameter, k, like this: s[i:j:k]. This gives a slice of the string s from index i to index j-1, whith step size k. For example: \n"
   ]
  },
  {
   "cell_type": "code",
   "execution_count": 31,
   "metadata": {},
   "outputs": [
    {
     "data": {
      "text/plain": [
       "'rc'"
      ]
     },
     "execution_count": 31,
     "metadata": {},
     "output_type": "execute_result"
    }
   ],
   "source": [
    "name[1:4:2]"
   ]
  },
  {
   "cell_type": "code",
   "execution_count": 32,
   "metadata": {},
   "outputs": [
    {
     "data": {
      "text/plain": [
       "'ei'"
      ]
     },
     "execution_count": 32,
     "metadata": {},
     "output_type": "execute_result"
    }
   ],
   "source": [
    "name[::2]"
   ]
  },
  {
   "cell_type": "code",
   "execution_count": 35,
   "metadata": {},
   "outputs": [
    {
     "data": {
      "text/plain": [
       "'cire'"
      ]
     },
     "execution_count": 35,
     "metadata": {},
     "output_type": "execute_result"
    }
   ],
   "source": [
    "name[::-1]"
   ]
  },
  {
   "cell_type": "markdown",
   "metadata": {},
   "source": [
    "## 3. Input/Output\n",
    "\n",
    "#### 3.1 Output\n",
    "You want to be able to print something to the monitor as you're doing computation. The keyword is print. "
   ]
  },
  {
   "cell_type": "code",
   "execution_count": 37,
   "metadata": {
    "collapsed": true
   },
   "outputs": [],
   "source": [
    "x=1"
   ]
  },
  {
   "cell_type": "code",
   "execution_count": 38,
   "metadata": {},
   "outputs": [
    {
     "name": "stdout",
     "output_type": "stream",
     "text": [
      "1\n"
     ]
    }
   ],
   "source": [
    "print(x)"
   ]
  },
  {
   "cell_type": "code",
   "execution_count": 39,
   "metadata": {
    "collapsed": true
   },
   "outputs": [],
   "source": [
    "x_str = str(x) #value of x as a string"
   ]
  },
  {
   "cell_type": "code",
   "execution_count": 40,
   "metadata": {},
   "outputs": [
    {
     "name": "stdout",
     "output_type": "stream",
     "text": [
      "my fav num is 1 .  x = 1\n"
     ]
    }
   ],
   "source": [
    "print(\"my fav num is\", x, \". \", \"x =\", x)"
   ]
  },
  {
   "cell_type": "code",
   "execution_count": 41,
   "metadata": {},
   "outputs": [
    {
     "name": "stdout",
     "output_type": "stream",
     "text": [
      "my fav num is 1. x =1\n"
     ]
    }
   ],
   "source": [
    "print(\"my fav num is\", x_str + \". \" + \"x =\" + x_str)"
   ]
  },
  {
   "cell_type": "markdown",
   "metadata": {},
   "source": [
    "#### 3.2 Input\n",
    "You want to bring in input. The keyword is input. It takes a single argument, which is a string, and it's gonna print out whatever is inside those quotes (string), it's gonna wait for you to type something in, and when you hit enter, it's gonna evaulaute whatever you typer in and return that as the result of the input statement. You can bind that value to a variable so can reference. For example:  "
   ]
  },
  {
   "cell_type": "code",
   "execution_count": 42,
   "metadata": {},
   "outputs": [
    {
     "name": "stdout",
     "output_type": "stream",
     "text": [
      "Type something: food\n"
     ]
    }
   ],
   "source": [
    "text=input(\"Type something: \")"
   ]
  },
  {
   "cell_type": "code",
   "execution_count": 43,
   "metadata": {},
   "outputs": [
    {
     "data": {
      "text/plain": [
       "'food'"
      ]
     },
     "execution_count": 43,
     "metadata": {},
     "output_type": "execute_result"
    }
   ],
   "source": [
    "text"
   ]
  },
  {
   "cell_type": "code",
   "execution_count": 44,
   "metadata": {},
   "outputs": [
    {
     "name": "stdout",
     "output_type": "stream",
     "text": [
      "foodfoodfood\n"
     ]
    }
   ],
   "source": [
    "print(3*text)"
   ]
  },
  {
   "cell_type": "markdown",
   "metadata": {},
   "source": [
    "Input is gonna interpret whatever you type in as a string, so if you want to type a value (number), you need to do the following: "
   ]
  },
  {
   "cell_type": "code",
   "execution_count": 46,
   "metadata": {},
   "outputs": [
    {
     "name": "stdout",
     "output_type": "stream",
     "text": [
      "Type a number: 3\n"
     ]
    }
   ],
   "source": [
    "num=int(input(\"Type a number: \"))"
   ]
  },
  {
   "cell_type": "code",
   "execution_count": 47,
   "metadata": {},
   "outputs": [
    {
     "name": "stdout",
     "output_type": "stream",
     "text": [
      "15\n"
     ]
    }
   ],
   "source": [
    "print(5*num)"
   ]
  },
  {
   "cell_type": "markdown",
   "metadata": {},
   "source": [
    "## 4. Control Flow"
   ]
  },
  {
   "cell_type": "markdown",
   "metadata": {},
   "source": [
    "#### 4.1 While Loops\n",
    "```\n",
    "while <condition>:\n",
    "    <expression>\n",
    "    <expression>\n",
    "    ...\n",
    "```\n",
    "- ```<condition> ```evaluates to a Boolean\n",
    "\n",
    "1. If ```<condition>``` is True, do all the steps inside the while code block.\n",
    "2. Check ```<condition>``` again.\n",
    "3. Repeat until ```<condition>``` is False"
   ]
  },
  {
   "cell_type": "code",
   "execution_count": 48,
   "metadata": {},
   "outputs": [
    {
     "name": "stdout",
     "output_type": "stream",
     "text": [
      "You are in the Lost Forest. Go right or left?right\n",
      "You are in the Lost Forest. Go right or left?right\n",
      "You are in the Lost Forest. Go right or left?left\n",
      "You got out of the Lost Forest\n"
     ]
    }
   ],
   "source": [
    "n = input(\"You are in the Lost Forest. Go right or left?\")\n",
    "while n == \"right\":\n",
    "    n = input(\"You are in the Lost Forest. Go right or left?\")\n",
    "print(\"You got out of the Lost Forest\")"
   ]
  },
  {
   "cell_type": "code",
   "execution_count": 49,
   "metadata": {},
   "outputs": [
    {
     "name": "stdout",
     "output_type": "stream",
     "text": [
      "0\n",
      "1\n",
      "2\n",
      "3\n",
      "4\n"
     ]
    }
   ],
   "source": [
    "#more complicated with while loop\n",
    "n = 0\n",
    "while n < 5:\n",
    "    print(n)\n",
    "    n = n+1"
   ]
  },
  {
   "cell_type": "code",
   "execution_count": 50,
   "metadata": {},
   "outputs": [
    {
     "name": "stdout",
     "output_type": "stream",
     "text": [
      "0\n",
      "1\n",
      "2\n",
      "3\n",
      "4\n"
     ]
    }
   ],
   "source": [
    "#Shortcut with for loop\n",
    "for n in range(5): \n",
    "    print(n)"
   ]
  },
  {
   "cell_type": "markdown",
   "metadata": {},
   "source": [
    "****\n",
    "```range``` will give you a sequence of integers before the number in the parenthesis. \n",
    "****"
   ]
  },
  {
   "cell_type": "markdown",
   "metadata": {},
   "source": [
    "#### 4.2 ```For``` loops\n",
    "For loops gives us a nice way to capture easily an iteration (a repeating of code a number of times)."
   ]
  },
  {
   "cell_type": "markdown",
   "metadata": {},
   "source": [
    "```python\n",
    "for <variable> in range(<some_num>):\n",
    "    <expression>\n",
    "    <expression>\n",
    "...\n",
    "```\n",
    "\n",
    "- each time through the loop, ```<variable>``` takes a value\n",
    "- first time, ```<variable>``` starts at the smallest value\n",
    "- Next time, ```<variable>``` gets the previous value + 1"
   ]
  },
  {
   "cell_type": "code",
   "execution_count": 51,
   "metadata": {},
   "outputs": [
    {
     "name": "stdout",
     "output_type": "stream",
     "text": [
      "24\n"
     ]
    }
   ],
   "source": [
    "mysum = 0\n",
    "for i in range (7,10):  #range from 7 up to but not including 10\n",
    "    mysum += i    #increment by i (7,8, and 9)\n",
    "print(mysum) "
   ]
  },
  {
   "cell_type": "code",
   "execution_count": 52,
   "metadata": {},
   "outputs": [
    {
     "name": "stdout",
     "output_type": "stream",
     "text": [
      "21\n"
     ]
    }
   ],
   "source": [
    "mysum = 0\n",
    "for i in range (5,11,2):  #range from 5 to 10 every 2 \n",
    "    mysum += i   #increment by i (5,7,9)\n",
    "print(mysum)"
   ]
  },
  {
   "cell_type": "markdown",
   "metadata": {},
   "source": [
    "#### 4.3 ```Break``` Statement"
   ]
  },
  {
   "cell_type": "markdown",
   "metadata": {},
   "source": [
    "It stops the execution of the loop or block up to that point and it breaks out of it. \n",
    "```python\n",
    "while <condition_1>:\n",
    "    while <condition_2>:\n",
    "        <expression_a>\n",
    "        break\n",
    "        <expression_b>\n",
    "    <expression_c>\n",
    "```"
   ]
  },
  {
   "cell_type": "code",
   "execution_count": 53,
   "metadata": {},
   "outputs": [
    {
     "name": "stdout",
     "output_type": "stream",
     "text": [
      "5\n"
     ]
    }
   ],
   "source": [
    "mysum = 0\n",
    "for i in range(5,11,2):\n",
    "    mysum += i\n",
    "    if mysum == 5:\n",
    "        break\n",
    "print(mysum)        "
   ]
  },
  {
   "cell_type": "markdown",
   "metadata": {},
   "source": [
    "| for loops     | while loops   | \n",
    "|:-------------:|:-------------:| \n",
    "|- know number of iterations      | -unbounded number of iterations | \n",
    "|- can end early via break      | - can end early via break     |\n",
    "|- uses a counter | - can use a counter but must initiate before loop and increment it inside loop      |\n",
    "|- can rewrite a for loop using a while loop | - may not be able to rewrite a while loop using a for loop"
   ]
  },
  {
   "cell_type": "markdown",
   "metadata": {},
   "source": [
    "## 5. Iteration\n",
    "Iteration let us extend simple branching algorithms to be able to write programs of arbitrary complexity.\n",
    "1. Start with a test\n",
    "2. if it evaluates ```True```, then execute loop body once, and go back to reevaluate the test. \n",
    "3. Repeat until test evaluates to ```False```, after which code following iteration statement is executed. "
   ]
  },
  {
   "attachments": {
    "imagen.png": {
     "image/png": "[encoded data removed]"
    }
   },
   "cell_type": "markdown",
   "metadata": {},
   "source": [
    "![imagen.png](attachment:imagen.png)"
   ]
  },
  {
   "cell_type": "code",
   "execution_count": 54,
   "metadata": {},
   "outputs": [
    {
     "name": "stdout",
     "output_type": "stream",
     "text": [
      "3*3 = 9\n"
     ]
    }
   ],
   "source": [
    "x = 3\n",
    "ans = 0\n",
    "itersLeft = x\n",
    "while (itersLeft != 0):\n",
    "    ans = ans + x\n",
    "    itersLeft -= 1\n",
    "print(str(x) + '*' + str(x) + ' = ' + str(ans))"
   ]
  },
  {
   "cell_type": "markdown",
   "metadata": {},
   "source": [
    "| x       | ans           | itersLeft  |\n",
    "| :-------------: |:-------------:| :-----:|\n",
    "|  3     | 0 |  3 |\n",
    "|       | 3     |    2 |\n",
    "|  | 6     |     1 |\n",
    "|  | 9 | 0 |"
   ]
  },
  {
   "cell_type": "markdown",
   "metadata": {},
   "source": [
    "Some properties of iteration loops: \n",
    "- need to set an iteration variable outside the loop\n",
    "- need to test variable to determine when done\n",
    "- need to change variable within the loop, in addition to other work"
   ]
  },
  {
   "cell_type": "markdown",
   "metadata": {},
   "source": [
    "- **Branching structures** (conditionals) let us jump to different pieces of code based on a test\n",
    " - Programs are constant time\n",
    "- **Looping structures** (e.g while) let us repeat pieces of code until a condition is satisfied\n",
    " - Programs now take time that depends on values of variables, as well as lenght of program"
   ]
  },
  {
   "cell_type": "markdown",
   "metadata": {},
   "source": [
    "## 6. Guess and Check\n",
    "If we could guess possible values for square root (of g), then we can use a declarative definition to check if g*g = x. We just need a good way to generate guesses. "
   ]
  },
  {
   "cell_type": "markdown",
   "metadata": {},
   "source": [
    "#### 6.1 Example: Finding Cube Root of Integer\n",
    "One way to use this idea of generating guesses in order to find a cube root of x is to first try ```0**3```, then ```1**3```, then ```2**3```, and so on. We can stop when we reach k such that ```k**3 > x```"
   ]
  },
  {
   "cell_type": "code",
   "execution_count": 61,
   "metadata": {},
   "outputs": [
    {
     "name": "stdout",
     "output_type": "stream",
     "text": [
      "Enter an Integer: -27\n",
      "Cube root of -27 is -3\n"
     ]
    }
   ],
   "source": [
    "x = int(input(\"Enter an Integer: \"))\n",
    "ans = 0\n",
    "while ans**3 < abs(x):\n",
    "    ans = ans + 1     #Increment ans until ans**3 < abs(x)\n",
    "if ans**3 != abs(x):\n",
    "    print(str(x) + \" is not a perfect cube\")\n",
    "else: \n",
    "    if x < 0:\n",
    "        ans = -ans\n",
    "    print(\"Cube root of \" + str(x) + \" is \" + str(ans))"
   ]
  },
  {
   "cell_type": "markdown",
   "metadata": {},
   "source": [
    "#### 6.2 Loop Characteristics\n",
    "\n",
    "- Need a Loop Variable\n",
    " - Initialized outside loop\n",
    " - Changes within loop\n",
    " - Test for termination depends on variable\n",
    "\n",
    "\n",
    "- Useful to think about a decrementing function\n",
    " - Maps set of program variables into an integer\n",
    " - When loop is entered, value is non-negative\n",
    " - When value is <= 0, loop terminates, and\n",
    " - Value is decreased every time through loop\n",
    " \n",
    "Here we can use abs(x) - ```ans**3```"
   ]
  },
  {
   "cell_type": "markdown",
   "metadata": {},
   "source": [
    "#### 6.3 What if we miss a condition?\n",
    "\n",
    "- **Suppose we don't initialize the variable?**\n",
    "\n",
    "Likely get a NameError; or worse, use an expected value to initiate the computation. \n",
    "\n",
    "\n",
    "- **Suppose we don't change the variable inside the loop?**\n",
    "\n",
    "We will end up in an infinite loop, never reaching the terminating condition. "
   ]
  },
  {
   "cell_type": "markdown",
   "metadata": {},
   "source": [
    "----\n",
    "**Cleaner Guess-and-Check (Cube Root)**"
   ]
  },
  {
   "cell_type": "code",
   "execution_count": 69,
   "metadata": {},
   "outputs": [
    {
     "name": "stdout",
     "output_type": "stream",
     "text": [
      "Enter an Integer: 27\n",
      "Cube roof of  27  is  3\n"
     ]
    }
   ],
   "source": [
    "cube = int(input(\"Enter an Integer: \"))\n",
    "for guess in range(abs(cube)+1):\n",
    "    if guess**3 >= abs(cube):\n",
    "        break\n",
    "if guess**3 != abs(cube):\n",
    "    print(cube, \" is not a perfect cube\")\n",
    "else:\n",
    "    if cube < 0:\n",
    "        guess = -guess\n",
    "    print(\"Cube roof of \", str(cube), \" is \", str(guess))"
   ]
  },
  {
   "cell_type": "markdown",
   "metadata": {},
   "source": [
    "____\n",
    "____\n",
    "- Guess and check methods can work on problems with a finite number of possibilities\n",
    "- Exhaustive enumeration is a good way to generate guesses in an organized matter.\n",
    "____\n",
    "____"
   ]
  }
 ],
 "metadata": {
  "kernelspec": {
   "display_name": "Python 3",
   "language": "python",
   "name": "python3"
  },
  "language_info": {
   "codemirror_mode": {
    "name": "ipython",
    "version": 3
   },
   "file_extension": ".py",
   "mimetype": "text/x-python",
   "name": "python",
   "nbconvert_exporter": "python",
   "pygments_lexer": "ipython3",
   "version": "3.6.1"
  }
 },
 "nbformat": 4,
 "nbformat_minor": 2
}
